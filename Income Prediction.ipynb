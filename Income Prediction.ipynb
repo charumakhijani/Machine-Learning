{
 "cells": [
  {
   "cell_type": "code",
   "execution_count": 2,
   "metadata": {},
   "outputs": [
    {
     "name": "stderr",
     "output_type": "stream",
     "text": [
      "/anaconda/envs/py35/lib/python3.5/importlib/_bootstrap.py:222: RuntimeWarning: numpy.dtype size changed, may indicate binary incompatibility. Expected 96, got 88\n",
      "  return f(*args, **kwds)\n",
      "/anaconda/envs/py35/lib/python3.5/importlib/_bootstrap.py:222: RuntimeWarning: numpy.dtype size changed, may indicate binary incompatibility. Expected 96, got 88\n",
      "  return f(*args, **kwds)\n"
     ]
    }
   ],
   "source": [
    "import pandas as pd\n",
    "import numpy as np\n",
    "from sklearn import preprocessing"
   ]
  },
  {
   "cell_type": "code",
   "execution_count": 3,
   "metadata": {},
   "outputs": [],
   "source": [
    "df_data = pd.read_csv(\"adult.csv\")"
   ]
  },
  {
   "cell_type": "code",
   "execution_count": 4,
   "metadata": {},
   "outputs": [
    {
     "data": {
      "text/html": [
       "<div>\n",
       "<style scoped>\n",
       "    .dataframe tbody tr th:only-of-type {\n",
       "        vertical-align: middle;\n",
       "    }\n",
       "\n",
       "    .dataframe tbody tr th {\n",
       "        vertical-align: top;\n",
       "    }\n",
       "\n",
       "    .dataframe thead th {\n",
       "        text-align: right;\n",
       "    }\n",
       "</style>\n",
       "<table border=\"1\" class=\"dataframe\">\n",
       "  <thead>\n",
       "    <tr style=\"text-align: right;\">\n",
       "      <th></th>\n",
       "      <th>age</th>\n",
       "      <th>workclass</th>\n",
       "      <th>fnlwgt</th>\n",
       "      <th>education</th>\n",
       "      <th>educational-num</th>\n",
       "      <th>marital-status</th>\n",
       "      <th>occupation</th>\n",
       "      <th>relationship</th>\n",
       "      <th>race</th>\n",
       "      <th>gender</th>\n",
       "      <th>capital-gain</th>\n",
       "      <th>capital-loss</th>\n",
       "      <th>hours-per-week</th>\n",
       "      <th>native-country</th>\n",
       "      <th>income</th>\n",
       "    </tr>\n",
       "  </thead>\n",
       "  <tbody>\n",
       "    <tr>\n",
       "      <th>0</th>\n",
       "      <td>39</td>\n",
       "      <td>State-gov</td>\n",
       "      <td>77516</td>\n",
       "      <td>Bachelors</td>\n",
       "      <td>13</td>\n",
       "      <td>Never-married</td>\n",
       "      <td>Adm-clerical</td>\n",
       "      <td>Not-in-family</td>\n",
       "      <td>White</td>\n",
       "      <td>Male</td>\n",
       "      <td>2174</td>\n",
       "      <td>0</td>\n",
       "      <td>40</td>\n",
       "      <td>United-States</td>\n",
       "      <td>&lt;=50K</td>\n",
       "    </tr>\n",
       "    <tr>\n",
       "      <th>1</th>\n",
       "      <td>50</td>\n",
       "      <td>Self-emp-not-inc</td>\n",
       "      <td>83311</td>\n",
       "      <td>Bachelors</td>\n",
       "      <td>13</td>\n",
       "      <td>Married-civ-spouse</td>\n",
       "      <td>Exec-managerial</td>\n",
       "      <td>Husband</td>\n",
       "      <td>White</td>\n",
       "      <td>Male</td>\n",
       "      <td>0</td>\n",
       "      <td>0</td>\n",
       "      <td>13</td>\n",
       "      <td>United-States</td>\n",
       "      <td>&lt;=50K</td>\n",
       "    </tr>\n",
       "    <tr>\n",
       "      <th>2</th>\n",
       "      <td>38</td>\n",
       "      <td>Private</td>\n",
       "      <td>215646</td>\n",
       "      <td>HS-grad</td>\n",
       "      <td>9</td>\n",
       "      <td>Divorced</td>\n",
       "      <td>Handlers-cleaners</td>\n",
       "      <td>Not-in-family</td>\n",
       "      <td>White</td>\n",
       "      <td>Male</td>\n",
       "      <td>0</td>\n",
       "      <td>0</td>\n",
       "      <td>40</td>\n",
       "      <td>United-States</td>\n",
       "      <td>&lt;=50K</td>\n",
       "    </tr>\n",
       "    <tr>\n",
       "      <th>3</th>\n",
       "      <td>53</td>\n",
       "      <td>Private</td>\n",
       "      <td>234721</td>\n",
       "      <td>11th</td>\n",
       "      <td>7</td>\n",
       "      <td>Married-civ-spouse</td>\n",
       "      <td>Handlers-cleaners</td>\n",
       "      <td>Husband</td>\n",
       "      <td>Black</td>\n",
       "      <td>Male</td>\n",
       "      <td>0</td>\n",
       "      <td>0</td>\n",
       "      <td>40</td>\n",
       "      <td>United-States</td>\n",
       "      <td>&lt;=50K</td>\n",
       "    </tr>\n",
       "    <tr>\n",
       "      <th>4</th>\n",
       "      <td>28</td>\n",
       "      <td>Private</td>\n",
       "      <td>338409</td>\n",
       "      <td>Bachelors</td>\n",
       "      <td>13</td>\n",
       "      <td>Married-civ-spouse</td>\n",
       "      <td>Prof-specialty</td>\n",
       "      <td>Wife</td>\n",
       "      <td>Black</td>\n",
       "      <td>Female</td>\n",
       "      <td>0</td>\n",
       "      <td>0</td>\n",
       "      <td>40</td>\n",
       "      <td>Cuba</td>\n",
       "      <td>&lt;=50K</td>\n",
       "    </tr>\n",
       "  </tbody>\n",
       "</table>\n",
       "</div>"
      ],
      "text/plain": [
       "   age          workclass  fnlwgt   education  educational-num  \\\n",
       "0   39          State-gov   77516   Bachelors               13   \n",
       "1   50   Self-emp-not-inc   83311   Bachelors               13   \n",
       "2   38            Private  215646     HS-grad                9   \n",
       "3   53            Private  234721        11th                7   \n",
       "4   28            Private  338409   Bachelors               13   \n",
       "\n",
       "        marital-status          occupation    relationship    race   gender  \\\n",
       "0        Never-married        Adm-clerical   Not-in-family   White     Male   \n",
       "1   Married-civ-spouse     Exec-managerial         Husband   White     Male   \n",
       "2             Divorced   Handlers-cleaners   Not-in-family   White     Male   \n",
       "3   Married-civ-spouse   Handlers-cleaners         Husband   Black     Male   \n",
       "4   Married-civ-spouse      Prof-specialty            Wife   Black   Female   \n",
       "\n",
       "   capital-gain  capital-loss  hours-per-week  native-country  income  \n",
       "0          2174             0              40   United-States   <=50K  \n",
       "1             0             0              13   United-States   <=50K  \n",
       "2             0             0              40   United-States   <=50K  \n",
       "3             0             0              40   United-States   <=50K  \n",
       "4             0             0              40            Cuba   <=50K  "
      ]
     },
     "execution_count": 4,
     "metadata": {},
     "output_type": "execute_result"
    }
   ],
   "source": [
    "df_data.head()"
   ]
  },
  {
   "cell_type": "code",
   "execution_count": 5,
   "metadata": {},
   "outputs": [
    {
     "data": {
      "text/plain": [
       "age                 int64\n",
       "workclass          object\n",
       "fnlwgt              int64\n",
       "education          object\n",
       "educational-num     int64\n",
       "marital-status     object\n",
       "occupation         object\n",
       "relationship       object\n",
       "race               object\n",
       "gender             object\n",
       "capital-gain        int64\n",
       "capital-loss        int64\n",
       "hours-per-week      int64\n",
       "native-country     object\n",
       "income             object\n",
       "dtype: object"
      ]
     },
     "execution_count": 5,
     "metadata": {},
     "output_type": "execute_result"
    }
   ],
   "source": [
    "df_data.dtypes"
   ]
  },
  {
   "cell_type": "code",
   "execution_count": 6,
   "metadata": {},
   "outputs": [
    {
     "data": {
      "text/plain": [
       "' United-States'"
      ]
     },
     "execution_count": 6,
     "metadata": {},
     "output_type": "execute_result"
    }
   ],
   "source": [
    "df_data[\"native-country\"].value_counts().index[0]"
   ]
  },
  {
   "cell_type": "code",
   "execution_count": 7,
   "metadata": {},
   "outputs": [
    {
     "data": {
      "text/plain": [
       " <=50K    24720\n",
       " >50K      7841\n",
       "Name: income, dtype: int64"
      ]
     },
     "execution_count": 7,
     "metadata": {},
     "output_type": "execute_result"
    }
   ],
   "source": [
    "df_data[\"income\"].value_counts()"
   ]
  },
  {
   "cell_type": "code",
   "execution_count": 8,
   "metadata": {},
   "outputs": [],
   "source": [
    "df_data = df_data.drop(['fnlwgt', 'educational-num'], axis = 1) "
   ]
  },
  {
   "cell_type": "code",
   "execution_count": 9,
   "metadata": {},
   "outputs": [],
   "source": [
    "col_names = df_data.columns"
   ]
  },
  {
   "cell_type": "code",
   "execution_count": 10,
   "metadata": {},
   "outputs": [],
   "source": [
    "for c in col_names: \n",
    "    df_data = df_data.replace(\"?\", np.NaN) \n",
    "df_data = df_data.apply(lambda x:x.fillna(x.value_counts().index[0]))"
   ]
  },
  {
   "cell_type": "code",
   "execution_count": 11,
   "metadata": {},
   "outputs": [
    {
     "name": "stdout",
     "output_type": "stream",
     "text": [
      "{'education': {' 11th': 1, ' Masters': 12, ' Bachelors': 9, ' Assoc-acdm': 7, ' Prof-school': 14, ' 12th': 2, ' 1st-4th': 3, ' 7th-8th': 5, ' Assoc-voc': 8, ' HS-grad': 11, ' 9th': 6, ' Some-college': 15, ' Doctorate': 10, ' Preschool': 13, ' 10th': 0, ' 5th-6th': 4}, 'income': {' <=50K': 0, ' >50K': 1}, 'gender': {' Male': 1, ' Female': 0}, 'race': {' Black': 2, ' Other': 3, ' White': 4, ' Asian-Pac-Islander': 1, ' Amer-Indian-Eskimo': 0}, 'marital-status': {' Married-spouse-absent': 3, ' Never-married': 4, ' Separated': 5, ' Divorced': 0, ' Widowed': 6, ' Married-AF-spouse': 1, ' Married-civ-spouse': 2}, 'occupation': {' Tech-support': 13, ' Adm-clerical': 1, ' Armed-Forces': 2, ' Craft-repair': 3, ' Priv-house-serv': 9, ' ?': 0, ' Other-service': 8, ' Handlers-cleaners': 6, ' Farming-fishing': 5, ' Exec-managerial': 4, ' Machine-op-inspct': 7, ' Prof-specialty': 10, ' Protective-serv': 11, ' Transport-moving': 14, ' Sales': 12}, 'workclass': {' Self-emp-not-inc': 6, ' Local-gov': 2, ' Never-worked': 3, ' Without-pay': 8, ' Federal-gov': 1, ' ?': 0, ' Private': 4, ' Self-emp-inc': 5, ' State-gov': 7}, 'relationship': {' Own-child': 3, ' Husband': 0, ' Not-in-family': 1, ' Wife': 5, ' Unmarried': 4, ' Other-relative': 2}, 'native-country': {' Italy': 22, ' Canada': 2, ' Peru': 29, ' Taiwan': 36, ' Nicaragua': 27, ' Germany': 11, ' South': 35, ' Guatemala': 13, ' Philippines': 30, ' Hungary': 18, ' England': 9, ' Yugoslavia': 41, ' Mexico': 26, ' Outlying-US(Guam-USVI-etc)': 28, ' Cuba': 5, ' Greece': 12, ' Poland': 31, ' United-States': 39, ' Scotland': 34, ' Holand-Netherlands': 15, ' Jamaica': 23, ' Ecuador': 7, ' Ireland': 21, ' Portugal': 32, ' Thailand': 37, ' ?': 0, ' China': 3, ' Honduras': 16, ' Puerto-Rico': 33, ' Vietnam': 40, ' Dominican-Republic': 6, ' Cambodia': 1, ' Columbia': 4, ' Hong': 17, ' France': 10, ' Japan': 24, ' El-Salvador': 8, ' Iran': 20, ' Haiti': 14, ' India': 19, ' Trinadad&Tobago': 38, ' Laos': 25}}\n"
     ]
    }
   ],
   "source": [
    "category_col =['workclass', 'education', 'marital-status', 'occupation', 'relationship', \n",
    "               'race', 'gender', 'native-country', 'income']  \n",
    "labelEncoder = preprocessing.LabelEncoder() \n",
    "  \n",
    "mapping_dict ={} \n",
    "for col in category_col: \n",
    "    df_data[col] = labelEncoder.fit_transform(df_data[col]) \n",
    "  \n",
    "    le_name_mapping = dict(zip(labelEncoder.classes_, \n",
    "                        labelEncoder.transform(labelEncoder.classes_))) \n",
    "  \n",
    "    mapping_dict[col]= le_name_mapping \n",
    "print(mapping_dict) "
   ]
  },
  {
   "cell_type": "code",
   "execution_count": 12,
   "metadata": {},
   "outputs": [],
   "source": [
    "from sklearn.model_selection import train_test_split \n",
    "from sklearn.metrics import accuracy_score \n",
    "  \n",
    "X = df_data.drop('income', axis = 1) \n",
    "Y = df_data['income']\n",
    "\n",
    "X_train, X_test, y_train, y_test = train_test_split(X, Y, test_size = 0.3, random_state = 100) "
   ]
  },
  {
   "cell_type": "code",
   "execution_count": 18,
   "metadata": {},
   "outputs": [
    {
     "name": "stdout",
     "output_type": "stream",
     "text": [
      "Desicion Tree using Gini Index\n",
      "Accuracy is  83.13031016480704\n",
      "[[7017  411]\n",
      " [1237 1104]]\n",
      "\n",
      "Accuracy:  83.13031016480704\n",
      "Precision:  72.87128712871286\n",
      "Recall:  47.15933361811192\n",
      "\n",
      "               precision    recall  f1-score   support\n",
      "\n",
      "           0       0.85      0.94      0.89      7428\n",
      "           1       0.73      0.47      0.57      2341\n",
      "\n",
      "   micro avg       0.83      0.83      0.83      9769\n",
      "   macro avg       0.79      0.71      0.73      9769\n",
      "weighted avg       0.82      0.83      0.82      9769\n",
      "\n"
     ]
    }
   ],
   "source": [
    "from sklearn.tree import DecisionTreeClassifier\n",
    "from sklearn.metrics import classification_report, confusion_matrix\n",
    "dt_clf_gini = DecisionTreeClassifier(criterion = \"gini\", \n",
    "                                     random_state = 100, \n",
    "                                     max_depth = 5, \n",
    "                                     min_samples_leaf = 5) \n",
    "dt_clf_gini.fit(X_train, y_train) \n",
    "\n",
    "y_pred_gini = dt_clf_gini.predict(X_test)\n",
    "print (\"Desicion Tree using Gini Index\\nAccuracy is \", accuracy_score(y_test, y_pred_gini)*100 )\n",
    "confusion_matrix = confusion_matrix(y_test, y_pred_gini)\n",
    "print (confusion_matrix)\n",
    "print('\\nAccuracy: ', dt_clf_gini.score(X_test, y_test)*100)\n",
    "print('Precision: ', confusion_matrix[1,1].astype(float)/(confusion_matrix[0,1].astype(float)+confusion_matrix[1,1].astype(float))*100)\n",
    "print('Recall: ', confusion_matrix[1,1].astype(float)/(confusion_matrix[1,0].astype(float)+confusion_matrix[1,1].astype(float))*100)\n",
    "print('\\n', classification_report(y_test, y_pred_gini))"
   ]
  },
  {
   "cell_type": "code",
   "execution_count": 17,
   "metadata": {},
   "outputs": [
    {
     "name": "stdout",
     "output_type": "stream",
     "text": [
      "Desicion Tree using Gini Index\n",
      "Accuracy is  85.1366567714198\n",
      "[[6866  562]\n",
      " [ 890 1451]]\n",
      "\n",
      "Accuracy:  85.1366567714198\n",
      "Precision:  72.08147044212619\n",
      "Recall:  61.98205894916702\n",
      "\n",
      "               precision    recall  f1-score   support\n",
      "\n",
      "           0       0.89      0.92      0.90      7428\n",
      "           1       0.72      0.62      0.67      2341\n",
      "\n",
      "   micro avg       0.85      0.85      0.85      9769\n",
      "   macro avg       0.80      0.77      0.79      9769\n",
      "weighted avg       0.85      0.85      0.85      9769\n",
      "\n"
     ]
    }
   ],
   "source": [
    "from sklearn.ensemble import RandomForestClassifier\n",
    "from sklearn.metrics import classification_report, confusion_matrix\n",
    "rf_clf = RandomForestClassifier(random_state=0, n_estimators=100) \n",
    "rf_clf.fit(X_train, y_train) \n",
    "\n",
    "y_pred_rf = rf_clf.predict(X_test)\n",
    "print (\"Desicion Tree using Gini Index\\nAccuracy is \", accuracy_score(y_test, y_pred_rf)*100 )\n",
    "confusion_matrix = confusion_matrix(y_test, y_pred_rf)\n",
    "print (confusion_matrix)\n",
    "print('\\nAccuracy: ', rf_clf.score(X_test, y_test)*100)\n",
    "print('Precision: ', confusion_matrix[1,1].astype(float)/(confusion_matrix[0,1].astype(float)+confusion_matrix[1,1].astype(float))*100)\n",
    "print('Recall: ', confusion_matrix[1,1].astype(float)/(confusion_matrix[1,0].astype(float)+confusion_matrix[1,1].astype(float))*100)\n",
    "print('\\n', classification_report(y_test, y_pred_rf))"
   ]
  },
  {
   "cell_type": "code",
   "execution_count": 16,
   "metadata": {},
   "outputs": [
    {
     "name": "stderr",
     "output_type": "stream",
     "text": [
      "/anaconda/envs/py35/lib/python3.5/site-packages/sklearn/linear_model/logistic.py:432: FutureWarning: Default solver will be changed to 'lbfgs' in 0.22. Specify a solver to silence this warning.\n",
      "  FutureWarning)\n"
     ]
    },
    {
     "name": "stdout",
     "output_type": "stream",
     "text": [
      "Logistic Regression Accuracy is  80.42788412324701\n",
      "[[7156  272]\n",
      " [1640  701]]\n",
      "\n",
      "Accuracy:  80.42788412324701\n",
      "Precision:  72.04522096608427\n",
      "Recall:  29.944468175993165\n",
      "\n",
      "               precision    recall  f1-score   support\n",
      "\n",
      "           0       0.81      0.96      0.88      7428\n",
      "           1       0.72      0.30      0.42      2341\n",
      "\n",
      "   micro avg       0.80      0.80      0.80      9769\n",
      "   macro avg       0.77      0.63      0.65      9769\n",
      "weighted avg       0.79      0.80      0.77      9769\n",
      "\n"
     ]
    }
   ],
   "source": [
    "from sklearn.linear_model import LogisticRegression\n",
    "from sklearn.metrics import classification_report, confusion_matrix\n",
    "lr_clf = LogisticRegression() \n",
    "lr_clf.fit(X_train, y_train) \n",
    "\n",
    "y_pred_lr = lr_clf.predict(X_test) \n",
    "print (\"Logistic Regression Accuracy is \", accuracy_score(y_test, y_pred_lr)*100 )\n",
    "confusion_matrix = confusion_matrix(y_test, y_pred_lr)\n",
    "print (confusion_matrix)\n",
    "print('\\nAccuracy: ', lr_clf.score(X_test, y_test)*100)\n",
    "print('Precision: ', confusion_matrix[1,1].astype(float)/(confusion_matrix[0,1].astype(float)+confusion_matrix[1,1].astype(float))*100)\n",
    "print('Recall: ', confusion_matrix[1,1].astype(float)/(confusion_matrix[1,0].astype(float)+confusion_matrix[1,1].astype(float))*100)\n",
    "print('\\n', classification_report(y_test, y_pred_lr))"
   ]
  },
  {
   "cell_type": "code",
   "execution_count": null,
   "metadata": {},
   "outputs": [],
   "source": []
  }
 ],
 "metadata": {
  "kernelspec": {
   "display_name": "Python 3.5",
   "language": "python",
   "name": "python3"
  },
  "language_info": {
   "codemirror_mode": {
    "name": "ipython",
    "version": 3
   },
   "file_extension": ".py",
   "mimetype": "text/x-python",
   "name": "python",
   "nbconvert_exporter": "python",
   "pygments_lexer": "ipython3",
   "version": "3.5.5"
  }
 },
 "nbformat": 4,
 "nbformat_minor": 2
}
